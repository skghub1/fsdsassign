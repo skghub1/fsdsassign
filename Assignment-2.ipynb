{
 "cells": [
  {
   "cell_type": "markdown",
   "id": "1f603098",
   "metadata": {},
   "source": [
    "1.What are the two values of the Boolean data type? How do you write them?"
   ]
  },
  {
   "cell_type": "markdown",
   "id": "ef4e293b",
   "metadata": {},
   "source": [
    "Ans: 1. True & 2. False. We write them with first letter capital and rest of the letters in smaller case i. \"True\" or \"False\"."
   ]
  },
  {
   "cell_type": "markdown",
   "id": "336dfe19",
   "metadata": {},
   "source": [
    "2. What are the three different types of Boolean operators?"
   ]
  },
  {
   "cell_type": "markdown",
   "id": "9049c2e7",
   "metadata": {},
   "source": [
    "Ans: Three different types of boolean operators are (i) And (ii)Or (iii)not."
   ]
  },
  {
   "cell_type": "markdown",
   "id": "7d60ddec",
   "metadata": {},
   "source": [
    "3. Make a list of each Boolean operator's truth tables (i.e. every possible combination of Boolean values for the operator and what it evaluate.)"
   ]
  },
  {
   "cell_type": "markdown",
   "id": "0b5930f1",
   "metadata": {},
   "source": [
    "Ans: And boolean operator truth table\n",
    "    A      B     A and B\n",
    "    True   True   True\n",
    "    True   False  False\n",
    "    False  True   False\n",
    "    False  False  False"
   ]
  },
  {
   "cell_type": "markdown",
   "id": "f34a36de",
   "metadata": {},
   "source": [
    " \n",
    "   Or boolean operator truth table\n",
    "    A      B     A or B\n",
    "    True   True   True\n",
    "    True   False  True\n",
    "    False  True   False\n",
    "    False  False  False\n",
    "    \n",
    "   Not boolean operator Truth table\n",
    "     A     Not A  \n",
    "    True   False \n",
    "    False  True  "
   ]
  },
  {
   "cell_type": "markdown",
   "id": "1684bfc1",
   "metadata": {},
   "source": [
    "4. What are the values of the following expressions?\n",
    "Ans: (5 > 4) and (3 == 5) -> False\n",
    "not (5 > 4) -> False\n",
    "(5 > 4) or (3 == 5) -> True\n",
    "not ((5 > 4) or (3 == 5)) -> False\n",
    "(True and True) and (True == False) -> False\n",
    "(not False) or (not True) -> True\n"
   ]
  },
  {
   "cell_type": "markdown",
   "id": "10211092",
   "metadata": {},
   "source": [
    "5. What are the six comparison operators?\n",
    "Ans: < (less than);\n",
    "     >(greater than); \n",
    "     <=(less than or equal to);\n",
    "     >=(greater than or equal to);\n",
    "     ==(equal to) &\n",
    "     !=(not equal to)"
   ]
  },
  {
   "cell_type": "markdown",
   "id": "1f27d6dc",
   "metadata": {},
   "source": [
    "6. How do you tell the difference between the equal to and assignment operators?Describe a condition and when you would use one.\n",
    "Ans: The difference between the 'equal to' operator and 'assignment' operator is that when it is required to check whether the values of two variables or any two values are equal then 'equal to' (==) operator is used. 'Assignment' (=) operator is used to assign any value to any variable.\n",
    "e.g. if we want to check whether two values are equal ( equal to operator is used):\n",
    "4*3 == 6*2\n",
    "\n",
    "e.g. when we want to assign any value to any variable, (assignment operator is used) :\n",
    "a = 26\n",
    "name = \"Shiv\"\n"
   ]
  },
  {
   "cell_type": "markdown",
   "id": "ddca5f68",
   "metadata": {},
   "source": [
    "7. Identify the three blocks in this code:\n",
    "spam = 0\n",
    "if spam == 10:\n",
    "print('eggs')\n",
    "if spam > 5:\n",
    "print('bacon')\n",
    "else:\n",
    "print('ham')\n",
    "print('spam')\n",
    "print('spam')"
   ]
  },
  {
   "cell_type": "markdown",
   "id": "590ffbcd",
   "metadata": {},
   "source": [
    "Ans:\n",
    "***\n",
    "spam = 0\n",
    "if spam == 10:\n",
    "    print('eggs')\n",
    "***\n",
    "if spam > 5:\n",
    "    print('bacon')\n",
    "***\n",
    "else:\n",
    "    print('ham')\n",
    "    print('spam')\n",
    "    print('spam')\n",
    "***"
   ]
  },
  {
   "cell_type": "markdown",
   "id": "7b38ad9d",
   "metadata": {},
   "source": [
    "8. Write code that prints Hello if 1 is stored in spam, prints Howdy if 2 is stored in spam, and prints Greetings! if anything else is stored in spam."
   ]
  },
  {
   "cell_type": "code",
   "execution_count": 2,
   "id": "ac97023e",
   "metadata": {},
   "outputs": [
    {
     "name": "stdout",
     "output_type": "stream",
     "text": [
      "Enter an integer : 5\n",
      "Greetings!\n"
     ]
    }
   ],
   "source": [
    "spam = int(input(\"Enter an integer : \"))\n",
    "\n",
    "if spam == 1:\n",
    "    print('Hello')\n",
    "    \n",
    "if spam == 2:\n",
    "    print('Howdy')\n",
    "    \n",
    "else:\n",
    "    print('Greetings!')"
   ]
  },
  {
   "cell_type": "markdown",
   "id": "7e8c9776",
   "metadata": {},
   "source": [
    "9. If your programme is stuck in an endless loop, what keys you’ll press?\n",
    "Ans: Ctrl + C"
   ]
  },
  {
   "cell_type": "markdown",
   "id": "9833cd79",
   "metadata": {},
   "source": [
    "10. How can you tell the difference between break and continue?\n",
    "Ans: Difference between break and continue statement :-\n",
    "Break eliminates the execution of remaining iteration of loop and stops the continuation of the loop\n",
    "Whereas continue terminates the current iteration of the loop only and does not stop the continuation of the loop only stops the current iteration only."
   ]
  },
  {
   "cell_type": "markdown",
   "id": "8d14fd8c",
   "metadata": {},
   "source": [
    "11. In a for loop, what is the difference between range(10), range(0, 10), and range(0, 10, 1)?\n",
    "Ans: only representation is different, it wil be executed in a same manner."
   ]
  },
  {
   "cell_type": "code",
   "execution_count": 5,
   "id": "3585dc7b",
   "metadata": {},
   "outputs": [
    {
     "name": "stdout",
     "output_type": "stream",
     "text": [
      "0\n",
      "1\n",
      "2\n",
      "3\n",
      "4\n",
      "5\n",
      "6\n",
      "7\n",
      "8\n",
      "9\n"
     ]
    }
   ],
   "source": [
    "for i in range(10):\n",
    "    print(i)"
   ]
  },
  {
   "cell_type": "code",
   "execution_count": 6,
   "id": "08241699",
   "metadata": {},
   "outputs": [
    {
     "name": "stdout",
     "output_type": "stream",
     "text": [
      "0\n",
      "1\n",
      "2\n",
      "3\n",
      "4\n",
      "5\n",
      "6\n",
      "7\n",
      "8\n",
      "9\n"
     ]
    }
   ],
   "source": [
    "for i in range(0,10):\n",
    "    print(i)"
   ]
  },
  {
   "cell_type": "code",
   "execution_count": 7,
   "id": "e16062d1",
   "metadata": {},
   "outputs": [
    {
     "name": "stdout",
     "output_type": "stream",
     "text": [
      "0\n",
      "1\n",
      "2\n",
      "3\n",
      "4\n",
      "5\n",
      "6\n",
      "7\n",
      "8\n",
      "9\n"
     ]
    }
   ],
   "source": [
    "for i in range(0,10,1):\n",
    "    print(i)"
   ]
  },
  {
   "cell_type": "markdown",
   "id": "20df224a",
   "metadata": {},
   "source": [
    "12. Write a short program that prints the numbers 1 to 10 using a for loop. Then write an equivalent program that prints the numbers 1 to 10 using a while loop."
   ]
  },
  {
   "cell_type": "code",
   "execution_count": 8,
   "id": "10eed3a5",
   "metadata": {},
   "outputs": [
    {
     "name": "stdout",
     "output_type": "stream",
     "text": [
      "1\n",
      "2\n",
      "3\n",
      "4\n",
      "5\n",
      "6\n",
      "7\n",
      "8\n",
      "9\n",
      "10\n"
     ]
    }
   ],
   "source": [
    "for i in range(1,11):\n",
    "    print(i)"
   ]
  },
  {
   "cell_type": "code",
   "execution_count": 11,
   "id": "c10888cd",
   "metadata": {},
   "outputs": [
    {
     "name": "stdout",
     "output_type": "stream",
     "text": [
      "1\n",
      "2\n",
      "3\n",
      "4\n",
      "5\n",
      "6\n",
      "7\n",
      "8\n",
      "9\n",
      "10\n"
     ]
    }
   ],
   "source": [
    "i = 1\n",
    "while i < 11:\n",
    "    print(i)\n",
    "    i += 1"
   ]
  },
  {
   "cell_type": "markdown",
   "id": "458d269c",
   "metadata": {},
   "source": [
    "13. If you had a function named bacon() inside a module named spam, how would you call it after importing spam?"
   ]
  },
  {
   "cell_type": "markdown",
   "id": "f602cd44",
   "metadata": {},
   "source": [
    "import spam\n",
    "spam.bacon()"
   ]
  }
 ],
 "metadata": {
  "kernelspec": {
   "display_name": "Python 3 (ipykernel)",
   "language": "python",
   "name": "python3"
  },
  "language_info": {
   "codemirror_mode": {
    "name": "ipython",
    "version": 3
   },
   "file_extension": ".py",
   "mimetype": "text/x-python",
   "name": "python",
   "nbconvert_exporter": "python",
   "pygments_lexer": "ipython3",
   "version": "3.9.7"
  }
 },
 "nbformat": 4,
 "nbformat_minor": 5
}
