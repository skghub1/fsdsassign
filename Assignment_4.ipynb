{
 "cells": [
  {
   "cell_type": "markdown",
   "id": "5be352c0",
   "metadata": {},
   "source": [
    "1. What exactly is []?\n",
    "\n",
    "Ans: [] is list.\n"
   ]
  },
  {
   "cell_type": "markdown",
   "id": "f884cea0",
   "metadata": {},
   "source": [
    "2. In a list of values stored in a variable called spam,\n",
    "how would you assign the value 'hello' as the third value? (Assume [2, 4, 6, 8, 10] are in spam.)"
   ]
  },
  {
   "cell_type": "code",
   "execution_count": 8,
   "id": "0b0aac0c",
   "metadata": {},
   "outputs": [
    {
     "data": {
      "text/plain": [
       "[2, 4, 6, 8, 10]"
      ]
     },
     "execution_count": 8,
     "metadata": {},
     "output_type": "execute_result"
    }
   ],
   "source": [
    "#Ans:\n",
    "spam = [2, 4, 6, 8, 10]\n",
    "spam\n"
   ]
  },
  {
   "cell_type": "code",
   "execution_count": 9,
   "id": "c286880f",
   "metadata": {},
   "outputs": [],
   "source": [
    "spam[2] = 'hello'"
   ]
  },
  {
   "cell_type": "code",
   "execution_count": 10,
   "id": "88c9f7e1",
   "metadata": {},
   "outputs": [
    {
     "data": {
      "text/plain": [
       "[2, 4, 'hello', 8, 10]"
      ]
     },
     "execution_count": 10,
     "metadata": {},
     "output_type": "execute_result"
    }
   ],
   "source": [
    "spam"
   ]
  },
  {
   "cell_type": "markdown",
   "id": "2414fef7",
   "metadata": {},
   "source": [
    "Let's pretend the spam includes the list ['a', 'b', 'c', 'd'] for the next three queries.\n"
   ]
  },
  {
   "cell_type": "markdown",
   "id": "5e5ce7c6",
   "metadata": {},
   "source": [
    "3. What is the value of spam[int(int('3' * 2) / 11)]?\n"
   ]
  },
  {
   "cell_type": "code",
   "execution_count": 11,
   "id": "61d9d010",
   "metadata": {},
   "outputs": [
    {
     "data": {
      "text/plain": [
       "'d'"
      ]
     },
     "execution_count": 11,
     "metadata": {},
     "output_type": "execute_result"
    }
   ],
   "source": [
    "#Ans:\n",
    "spam =  ['a', 'b', 'c', 'd']\n",
    "spam[int(int('3' * 2) / 11)]"
   ]
  },
  {
   "cell_type": "markdown",
   "id": "cd690142",
   "metadata": {},
   "source": [
    "4. What is the value of spam[-1]?"
   ]
  },
  {
   "cell_type": "code",
   "execution_count": 22,
   "id": "6087704a",
   "metadata": {},
   "outputs": [
    {
     "data": {
      "text/plain": [
       "'d'"
      ]
     },
     "execution_count": 22,
     "metadata": {},
     "output_type": "execute_result"
    }
   ],
   "source": [
    "#Ans:\n",
    "spam[-1]"
   ]
  },
  {
   "cell_type": "markdown",
   "id": "1716c226",
   "metadata": {},
   "source": [
    "5. What is the value of spam[:2]?"
   ]
  },
  {
   "cell_type": "code",
   "execution_count": 23,
   "id": "e4c140be",
   "metadata": {},
   "outputs": [
    {
     "data": {
      "text/plain": [
       "['a', 'b']"
      ]
     },
     "execution_count": 23,
     "metadata": {},
     "output_type": "execute_result"
    }
   ],
   "source": [
    "spam[:2]"
   ]
  },
  {
   "cell_type": "markdown",
   "id": "0e27f8d2",
   "metadata": {},
   "source": [
    "Let's pretend bacon has the list [3.14, 'cat,' 11, 'cat,' True] for the next three questions."
   ]
  },
  {
   "cell_type": "code",
   "execution_count": 35,
   "id": "ef550ad0",
   "metadata": {},
   "outputs": [],
   "source": [
    "bacon = [3.14, 'cat', 11, 'cat', True]"
   ]
  },
  {
   "cell_type": "markdown",
   "id": "936db078",
   "metadata": {},
   "source": [
    "6. What is the value of bacon.index('cat')?"
   ]
  },
  {
   "cell_type": "code",
   "execution_count": 36,
   "id": "ea757501",
   "metadata": {},
   "outputs": [
    {
     "data": {
      "text/plain": [
       "1"
      ]
     },
     "execution_count": 36,
     "metadata": {},
     "output_type": "execute_result"
    }
   ],
   "source": [
    "bacon.index('cat')"
   ]
  },
  {
   "cell_type": "markdown",
   "id": "448c7d78",
   "metadata": {},
   "source": [
    "7. How does bacon.append(99) change the look of the list value in bacon?"
   ]
  },
  {
   "cell_type": "code",
   "execution_count": 37,
   "id": "faa02e75",
   "metadata": {},
   "outputs": [],
   "source": [
    "#Ans: this will add 99 at the end of the list.\n",
    "bacon.append(99)"
   ]
  },
  {
   "cell_type": "code",
   "execution_count": 38,
   "id": "bc9145da",
   "metadata": {},
   "outputs": [
    {
     "data": {
      "text/plain": [
       "[3.14, 'cat', 11, 'cat', True, 99]"
      ]
     },
     "execution_count": 38,
     "metadata": {},
     "output_type": "execute_result"
    }
   ],
   "source": [
    "bacon"
   ]
  },
  {
   "cell_type": "markdown",
   "id": "8b0df2eb",
   "metadata": {},
   "source": [
    "8. How does bacon.remove('cat') change the look of the list in bacon?"
   ]
  },
  {
   "cell_type": "code",
   "execution_count": 39,
   "id": "2ae3f9ff",
   "metadata": {},
   "outputs": [],
   "source": [
    "#Ans:  This will remove the first 'cat' from the list\n",
    "bacon.remove('cat')"
   ]
  },
  {
   "cell_type": "code",
   "execution_count": 40,
   "id": "04a1c284",
   "metadata": {},
   "outputs": [
    {
     "data": {
      "text/plain": [
       "[3.14, 11, 'cat', True, 99]"
      ]
     },
     "execution_count": 40,
     "metadata": {},
     "output_type": "execute_result"
    }
   ],
   "source": [
    "bacon"
   ]
  },
  {
   "cell_type": "markdown",
   "id": "123dcc64",
   "metadata": {},
   "source": [
    "9. What are the list concatenation and list replication operators?"
   ]
  },
  {
   "cell_type": "code",
   "execution_count": 41,
   "id": "18c920ea",
   "metadata": {},
   "outputs": [
    {
     "data": {
      "text/plain": [
       "[1, 2, 3, 1, 5, 6]"
      ]
     },
     "execution_count": 41,
     "metadata": {},
     "output_type": "execute_result"
    }
   ],
   "source": [
    "#Ans: List Concatenation operator is +\n",
    "# List replication operator is *\n",
    "\n",
    "[1,2,3]+[1,5,6]"
   ]
  },
  {
   "cell_type": "code",
   "execution_count": 42,
   "id": "579e131a",
   "metadata": {},
   "outputs": [
    {
     "data": {
      "text/plain": [
       "['q', 'w', 'e', 'q', 'w', 'e']"
      ]
     },
     "execution_count": 42,
     "metadata": {},
     "output_type": "execute_result"
    }
   ],
   "source": [
    "['q','w','e']*2"
   ]
  },
  {
   "cell_type": "markdown",
   "id": "5c9cc021",
   "metadata": {},
   "source": [
    "10. What is difference between the list methods append() and insert()?"
   ]
  },
  {
   "cell_type": "markdown",
   "id": "1b4648b3",
   "metadata": {},
   "source": [
    "Ans: The main difference between the methods append() and insert() is that append() method modifies the list by adding new item at the end of the list whereas by using insert() method we can modify a list by adding a new item in between the list at the provided index. example below:"
   ]
  },
  {
   "cell_type": "code",
   "execution_count": 51,
   "id": "bd93fddf",
   "metadata": {},
   "outputs": [],
   "source": [
    "# example of append():\n",
    "list1 = ['a','z','q']\n",
    "list1.append('append')"
   ]
  },
  {
   "cell_type": "code",
   "execution_count": 52,
   "id": "ec64636c",
   "metadata": {},
   "outputs": [
    {
     "data": {
      "text/plain": [
       "['a', 'z', 'q', 'append']"
      ]
     },
     "execution_count": 52,
     "metadata": {},
     "output_type": "execute_result"
    }
   ],
   "source": [
    "list1"
   ]
  },
  {
   "cell_type": "code",
   "execution_count": 53,
   "id": "7c0d0a60",
   "metadata": {},
   "outputs": [],
   "source": [
    "#example of insert():\n",
    "list1.insert(1,'insert')"
   ]
  },
  {
   "cell_type": "code",
   "execution_count": 54,
   "id": "af6f3e22",
   "metadata": {},
   "outputs": [
    {
     "data": {
      "text/plain": [
       "['a', 'insert', 'z', 'q', 'append']"
      ]
     },
     "execution_count": 54,
     "metadata": {},
     "output_type": "execute_result"
    }
   ],
   "source": [
    "list1"
   ]
  },
  {
   "cell_type": "markdown",
   "id": "0ae889bb",
   "metadata": {},
   "source": [
    "11. What are the two methods for removing items from a list?"
   ]
  },
  {
   "cell_type": "markdown",
   "id": "83a49a07",
   "metadata": {},
   "source": [
    "#Ans: The two methods for removing items from the list are:\n",
    "pop() : in this method index of the item to be removed is provided.\n",
    "remove() : in this method the first matching item is removed from the list\n",
    "\n"
   ]
  },
  {
   "cell_type": "code",
   "execution_count": 56,
   "id": "3b596305",
   "metadata": {},
   "outputs": [
    {
     "data": {
      "text/plain": [
       "['a', 'insert', 'q', 'append']"
      ]
     },
     "execution_count": 56,
     "metadata": {},
     "output_type": "execute_result"
    }
   ],
   "source": [
    "#example of pop()\n",
    "list1.pop(2)\n",
    "list1"
   ]
  },
  {
   "cell_type": "code",
   "execution_count": 58,
   "id": "ac847d50",
   "metadata": {},
   "outputs": [
    {
     "data": {
      "text/plain": [
       "['a', 'insert', 'append']"
      ]
     },
     "execution_count": 58,
     "metadata": {},
     "output_type": "execute_result"
    }
   ],
   "source": [
    "\n",
    "#example of remove()\n",
    "list1.remove('q')\n",
    "list1"
   ]
  },
  {
   "cell_type": "markdown",
   "id": "0903c937",
   "metadata": {},
   "source": [
    "12. Describe how list values and string values are identical."
   ]
  },
  {
   "cell_type": "markdown",
   "id": "3c3915cd",
   "metadata": {},
   "source": [
    "Ans: List values and string values are identical in a manner that the elements of both lists and strings are in sequences and indexed."
   ]
  },
  {
   "cell_type": "markdown",
   "id": "cf5cae4e",
   "metadata": {},
   "source": [
    "13. What's the difference between tuples and lists?"
   ]
  },
  {
   "cell_type": "markdown",
   "id": "2ed8fb7a",
   "metadata": {},
   "source": [
    "Ans: main differences between tuples and the lists :\n",
    "1. first of all tuples are defined by ()  whereas lists are defined by []. \n",
    "2. tuples are immutable i.e once defined same tuple can not be modified whereas lists are mutable."
   ]
  },
  {
   "cell_type": "markdown",
   "id": "ae6bef97",
   "metadata": {},
   "source": [
    "14. How do you type a tuple value that only contains the integer 42?"
   ]
  },
  {
   "cell_type": "code",
   "execution_count": 66,
   "id": "bcabd940",
   "metadata": {},
   "outputs": [],
   "source": [
    "#Ans: A tuple having only 42 as an element can be defined by having a trailing , after 42\n",
    "t1 = (42,)"
   ]
  },
  {
   "cell_type": "code",
   "execution_count": 67,
   "id": "035a00eb",
   "metadata": {},
   "outputs": [
    {
     "data": {
      "text/plain": [
       "tuple"
      ]
     },
     "execution_count": 67,
     "metadata": {},
     "output_type": "execute_result"
    }
   ],
   "source": [
    "type(t1)"
   ]
  },
  {
   "cell_type": "markdown",
   "id": "66a3f9ad",
   "metadata": {},
   "source": [
    "15. How do you get a list value's tuple form? How do you get a tuple value's list form?"
   ]
  },
  {
   "cell_type": "code",
   "execution_count": 68,
   "id": "e0b0c9da",
   "metadata": {},
   "outputs": [
    {
     "data": {
      "text/plain": [
       "('a', 'insert', 'append')"
      ]
     },
     "execution_count": 68,
     "metadata": {},
     "output_type": "execute_result"
    }
   ],
   "source": [
    "#ans: By using tuple(listname) we can convert list into a tuple form\n",
    "tuple(list1)"
   ]
  },
  {
   "cell_type": "code",
   "execution_count": 69,
   "id": "8f24a369",
   "metadata": {},
   "outputs": [],
   "source": [
    "t2 = ('q','e','t','u')"
   ]
  },
  {
   "cell_type": "code",
   "execution_count": 70,
   "id": "c8917747",
   "metadata": {},
   "outputs": [
    {
     "data": {
      "text/plain": [
       "['q', 'e', 't', 'u']"
      ]
     },
     "execution_count": 70,
     "metadata": {},
     "output_type": "execute_result"
    }
   ],
   "source": [
    "#Similarly, we can get a tuple into list form by using list(tuplename)\n",
    "list(t2)"
   ]
  },
  {
   "cell_type": "markdown",
   "id": "8f599131",
   "metadata": {},
   "source": [
    "16. Variables that \"contain\" list values are not necessarily lists themselves. Instead, what do they contain"
   ]
  },
  {
   "cell_type": "code",
   "execution_count": 76,
   "id": "85f8efa7",
   "metadata": {},
   "outputs": [],
   "source": [
    "#Ans: They can be sets.\n"
   ]
  },
  {
   "cell_type": "markdown",
   "id": "ec8840fd",
   "metadata": {},
   "source": [
    "17. How do you distinguish between copy.copy() and copy.deepcopy()?"
   ]
  },
  {
   "cell_type": "code",
   "execution_count": null,
   "id": "4baef4f2",
   "metadata": {},
   "outputs": [],
   "source": []
  }
 ],
 "metadata": {
  "kernelspec": {
   "display_name": "Python 3 (ipykernel)",
   "language": "python",
   "name": "python3"
  },
  "language_info": {
   "codemirror_mode": {
    "name": "ipython",
    "version": 3
   },
   "file_extension": ".py",
   "mimetype": "text/x-python",
   "name": "python",
   "nbconvert_exporter": "python",
   "pygments_lexer": "ipython3",
   "version": "3.9.7"
  }
 },
 "nbformat": 4,
 "nbformat_minor": 5
}
