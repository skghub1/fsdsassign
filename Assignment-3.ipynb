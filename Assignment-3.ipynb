{
 "cells": [
  {
   "cell_type": "markdown",
   "id": "b52b2f35",
   "metadata": {},
   "source": [
    "1. Why are functions advantageous to have in your programs?"
   ]
  },
  {
   "cell_type": "markdown",
   "id": "7efc051f",
   "metadata": {},
   "source": [
    "Ans: Functions are advantageous to have in our programs because it eliminates the need of writing a code multiple times. When we write a function it is called at any place in a program any number of times as and when required. This reduces the length of the program as well as to makes it easier to read, to change or correct or update the program."
   ]
  },
  {
   "cell_type": "markdown",
   "id": "40164d23",
   "metadata": {},
   "source": [
    "2. When does the code in a function run: when it's specified or when it's called?"
   ]
  },
  {
   "cell_type": "markdown",
   "id": "ff450cc0",
   "metadata": {},
   "source": [
    "Ans: The code in a function runs when the function is called."
   ]
  },
  {
   "cell_type": "markdown",
   "id": "8a835102",
   "metadata": {},
   "source": [
    "3. What statement creates a function?"
   ]
  },
  {
   "cell_type": "markdown",
   "id": "b0b5d30b",
   "metadata": {},
   "source": [
    "Ans: To create a function (define a function) def statement is used.\n",
    "\n",
    "    "
   ]
  },
  {
   "cell_type": "code",
   "execution_count": 10,
   "id": "911d6de6",
   "metadata": {},
   "outputs": [],
   "source": [
    "def func1():\n",
    "    print(\"This is an example to explain def statement and call a function, Thank you!\")"
   ]
  },
  {
   "cell_type": "code",
   "execution_count": 11,
   "id": "a730ee8c",
   "metadata": {},
   "outputs": [
    {
     "name": "stdout",
     "output_type": "stream",
     "text": [
      "This is an example to explain def statement and call a function, Thank you!\n"
     ]
    }
   ],
   "source": [
    "func1()"
   ]
  },
  {
   "cell_type": "markdown",
   "id": "002e1d35",
   "metadata": {},
   "source": [
    "4. What is the difference between a function and a function call?"
   ]
  },
  {
   "cell_type": "code",
   "execution_count": 14,
   "id": "4aa8bc40",
   "metadata": {},
   "outputs": [],
   "source": [
    "# Ans: A function is def statement with a code included within. Example below:\n",
    "def func_add(a,b):\n",
    "    c = a+b\n",
    "    return(c)"
   ]
  },
  {
   "cell_type": "code",
   "execution_count": 15,
   "id": "ce9bec38",
   "metadata": {},
   "outputs": [
    {
     "data": {
      "text/plain": [
       "5"
      ]
     },
     "execution_count": 15,
     "metadata": {},
     "output_type": "execute_result"
    }
   ],
   "source": [
    "# With a function call in a program we execute the code defined in that function to return a desired result from it.\n",
    "func_add(4,1)"
   ]
  },
  {
   "cell_type": "markdown",
   "id": "4665dbb4",
   "metadata": {},
   "source": [
    "5. How many global scopes are there in a Python program? How many local scopes?"
   ]
  },
  {
   "cell_type": "markdown",
   "id": "074691b1",
   "metadata": {},
   "source": [
    "Ans: There is only one global scope in a python program. There are multiple local scopes in the python program.Local scope is created at a function call, so, each call will create a local scope.\n",
    "\n",
    "\n",
    "    "
   ]
  },
  {
   "cell_type": "markdown",
   "id": "fd2d1f07",
   "metadata": {},
   "source": [
    "6. What happens to variables in a local scope when the function call returns?"
   ]
  },
  {
   "cell_type": "markdown",
   "id": "4912a60f",
   "metadata": {},
   "source": [
    "Ans: When a function call returns a value, then the values in the variables in a local scope are forgotten."
   ]
  },
  {
   "cell_type": "markdown",
   "id": "075b7493",
   "metadata": {},
   "source": [
    "7. What is the concept of a return value? Is it possible to have a return value in an expression?"
   ]
  },
  {
   "cell_type": "markdown",
   "id": "6769020b",
   "metadata": {},
   "source": [
    "Ans: A return value is a value that comes after a function call completes the evaluation. Yes return value can be used in an expression. "
   ]
  },
  {
   "cell_type": "markdown",
   "id": "0b88bb62",
   "metadata": {},
   "source": [
    "8. If a function does not have a return statement, what is the return value of a call to that function?"
   ]
  },
  {
   "cell_type": "markdown",
   "id": "7fa5353e",
   "metadata": {},
   "source": [
    "Ans: in this case return value is None."
   ]
  },
  {
   "cell_type": "markdown",
   "id": "f8b3c842",
   "metadata": {},
   "source": [
    "9. How do you make a function variable refer to the global variable?"
   ]
  },
  {
   "cell_type": "markdown",
   "id": "1794ef1b",
   "metadata": {},
   "source": [
    "Ans: To make a function variable refer to the global variable, we need to use the global keyword to declare some global variables."
   ]
  },
  {
   "cell_type": "markdown",
   "id": "115440ba",
   "metadata": {},
   "source": [
    "10. What is the data type of None?"
   ]
  },
  {
   "cell_type": "markdown",
   "id": "4c0f198f",
   "metadata": {},
   "source": [
    "NoneType"
   ]
  },
  {
   "cell_type": "markdown",
   "id": "0c9fed7f",
   "metadata": {},
   "source": [
    "11. What does the sentence import areallyourpetsnamederic do?\n",
    "Ans: This will import the module areallyourpetsnamederic"
   ]
  },
  {
   "cell_type": "markdown",
   "id": "4f221c5e",
   "metadata": {},
   "source": [
    "12. If you had a bacon() feature in a spam module, what would you call it after importing spam?"
   ]
  },
  {
   "cell_type": "markdown",
   "id": "579a3130",
   "metadata": {},
   "source": [
    "Ans: spam.bacon()"
   ]
  },
  {
   "cell_type": "markdown",
   "id": "5b4f91e5",
   "metadata": {},
   "source": [
    "13. What can you do to save a programme from crashing if it encounters an error?\n",
    "Ans: We can do error handling."
   ]
  },
  {
   "cell_type": "markdown",
   "id": "52f961e6",
   "metadata": {},
   "source": [
    "14. What is the purpose of the try clause? What is the purpose of the except clause?\n",
    "Ans: The try clause allows us to test a block of code for any errors. Except clause allows us to handle the error by using a response defined by a user."
   ]
  },
  {
   "cell_type": "code",
   "execution_count": null,
   "id": "4517e2b4",
   "metadata": {},
   "outputs": [],
   "source": []
  }
 ],
 "metadata": {
  "kernelspec": {
   "display_name": "Python 3 (ipykernel)",
   "language": "python",
   "name": "python3"
  },
  "language_info": {
   "codemirror_mode": {
    "name": "ipython",
    "version": 3
   },
   "file_extension": ".py",
   "mimetype": "text/x-python",
   "name": "python",
   "nbconvert_exporter": "python",
   "pygments_lexer": "ipython3",
   "version": "3.9.7"
  }
 },
 "nbformat": 4,
 "nbformat_minor": 5
}
