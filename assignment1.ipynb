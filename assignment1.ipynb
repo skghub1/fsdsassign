{
 "cells": [
  {
   "cell_type": "markdown",
   "id": "16df4be5",
   "metadata": {},
   "source": [
    "1. In the below elements which of them are values or an expression? eg:- values can be integer or string and expressions will be mathematical operators.\n",
    "* \n",
    "'hello'\n",
    "-87.8\n",
    "- \n",
    "/ \n",
    "+\t\n",
    "6"
   ]
  },
  {
   "cell_type": "markdown",
   "id": "d253fafe",
   "metadata": {},
   "source": [
    "Ans : Values ->\n",
    "'hello'\n",
    "-87.8\n",
    "6\n",
    "\n",
    "Expressions (mathematical operators) ->\n",
    "*\n",
    "-\n",
    "/\n",
    "+\n"
   ]
  },
  {
   "cell_type": "markdown",
   "id": "4b253f50",
   "metadata": {},
   "source": [
    "2. What is the difference between string and variable?"
   ]
  },
  {
   "cell_type": "markdown",
   "id": "4c252f01",
   "metadata": {},
   "source": [
    "Ans: A variable is a name that refers to a memory location where we can store data of different types i.e integer, boolean, float or string etc.\n",
    "Whereas a string is type of data itself. it has to be enclosed within sigle quotes or double qoutes.\n",
    "A variable can hold data in form of a string."
   ]
  },
  {
   "cell_type": "markdown",
   "id": "24912e5a",
   "metadata": {},
   "source": [
    "3. Describe three different data types.\n"
   ]
  },
  {
   "cell_type": "markdown",
   "id": "8421435e",
   "metadata": {},
   "source": [
    "Ans: Integer, float & string"
   ]
  },
  {
   "cell_type": "markdown",
   "id": "3e6e093c",
   "metadata": {},
   "source": [
    "4. What is an expression made up of? What do all expressions do?"
   ]
  },
  {
   "cell_type": "markdown",
   "id": "8dd1d15a",
   "metadata": {},
   "source": [
    "Ans: An expression is made up of values, variables and operators. All the expressions do the evaluation of itself and return a result value that can be of same data type or may be of different data type or it can return a value of boolean type that tells the expression is true or false."
   ]
  },
  {
   "cell_type": "markdown",
   "id": "fc1b5d3e",
   "metadata": {},
   "source": [
    "5. This assignment statements, like spam = 10. What is the difference between an expression and a statement?"
   ]
  },
  {
   "cell_type": "markdown",
   "id": "520f6945",
   "metadata": {},
   "source": [
    "ans: The assignment statements are used to assign the values to a variable whereas an expression does calculation or evaluation based upon the operators provided in the expression itself to return a result value which can be in form of same data type or a boolean data type in from of true or false."
   ]
  },
  {
   "cell_type": "markdown",
   "id": "f4da2c45",
   "metadata": {},
   "source": [
    "6. After running the following code, what does the variable bacon contain?\n",
    "bacon = 22\n",
    "bacon + 1\n"
   ]
  },
  {
   "cell_type": "code",
   "execution_count": 3,
   "id": "a682782b",
   "metadata": {},
   "outputs": [
    {
     "data": {
      "text/plain": [
       "23"
      ]
     },
     "execution_count": 3,
     "metadata": {},
     "output_type": "execute_result"
    }
   ],
   "source": [
    "bacon = 22\n",
    "bacon + 1"
   ]
  },
  {
   "cell_type": "markdown",
   "id": "f90c6692",
   "metadata": {},
   "source": [
    "7. What should the values of the following two terms be?\n",
    "'spam' + 'spamspam'\n",
    "'spam' * 3\n"
   ]
  },
  {
   "cell_type": "code",
   "execution_count": 5,
   "id": "38628686",
   "metadata": {},
   "outputs": [
    {
     "data": {
      "text/plain": [
       "'spamspamspam'"
      ]
     },
     "execution_count": 5,
     "metadata": {},
     "output_type": "execute_result"
    }
   ],
   "source": [
    "'spam' + 'spamspam'\n"
   ]
  },
  {
   "cell_type": "code",
   "execution_count": 6,
   "id": "a81b8965",
   "metadata": {},
   "outputs": [
    {
     "data": {
      "text/plain": [
       "'spamspamspam'"
      ]
     },
     "execution_count": 6,
     "metadata": {},
     "output_type": "execute_result"
    }
   ],
   "source": [
    "'spam' * 3"
   ]
  },
  {
   "cell_type": "markdown",
   "id": "3158eaee",
   "metadata": {},
   "source": [
    "8. Why is eggs a valid variable name while 100 is invalid?"
   ]
  },
  {
   "cell_type": "markdown",
   "id": "297c912d",
   "metadata": {},
   "source": [
    "Ans: Because in python we cannot use a variable name that begins with a number, so eggs is a valid variable name but 100 is not."
   ]
  },
  {
   "cell_type": "markdown",
   "id": "08ef2d10",
   "metadata": {},
   "source": [
    "9. What three functions can be used to get the integer, floating-point number, or string version of a value?"
   ]
  },
  {
   "cell_type": "markdown",
   "id": "03205dba",
   "metadata": {},
   "source": [
    "Ans: To take input of desired data type we can use the following functions :-\n",
    "integer -> int()\n",
    "floating-point number -> float()\n",
    "string version -> str()"
   ]
  },
  {
   "cell_type": "markdown",
   "id": "9c12dbbf",
   "metadata": {},
   "source": [
    "10. Why does this expression cause an error? How can you fix it?\n",
    "'I have eaten ' + 99 + ' burritos.'\n"
   ]
  },
  {
   "cell_type": "markdown",
   "id": "cc3c9bf4",
   "metadata": {},
   "source": [
    "'I have eaten ' + 99 + ' burritos.\n",
    "in the expression above, we are trying to concatenate string with integer but only strings can be concatenated. so we can fix it by converting 99 into a string. that can be done easily in two ways mentioned below :- "
   ]
  },
  {
   "cell_type": "code",
   "execution_count": 12,
   "id": "00b98945",
   "metadata": {},
   "outputs": [
    {
     "data": {
      "text/plain": [
       "'I have eaten 99 burritos.'"
      ]
     },
     "execution_count": 12,
     "metadata": {},
     "output_type": "execute_result"
    }
   ],
   "source": [
    "'I have eaten ' + '99' + ' burritos.'"
   ]
  },
  {
   "cell_type": "code",
   "execution_count": 15,
   "id": "a7650836",
   "metadata": {},
   "outputs": [
    {
     "data": {
      "text/plain": [
       "'I have eaten 99 burritos.'"
      ]
     },
     "execution_count": 15,
     "metadata": {},
     "output_type": "execute_result"
    }
   ],
   "source": [
    "'I have eaten ' + str(99) + ' burritos.'"
   ]
  },
  {
   "cell_type": "code",
   "execution_count": null,
   "id": "c8856d53",
   "metadata": {},
   "outputs": [],
   "source": []
  }
 ],
 "metadata": {
  "kernelspec": {
   "display_name": "Python 3 (ipykernel)",
   "language": "python",
   "name": "python3"
  },
  "language_info": {
   "codemirror_mode": {
    "name": "ipython",
    "version": 3
   },
   "file_extension": ".py",
   "mimetype": "text/x-python",
   "name": "python",
   "nbconvert_exporter": "python",
   "pygments_lexer": "ipython3",
   "version": "3.9.7"
  }
 },
 "nbformat": 4,
 "nbformat_minor": 5
}
